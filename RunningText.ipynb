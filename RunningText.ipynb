{
  "nbformat": 4,
  "nbformat_minor": 0,
  "metadata": {
    "colab": {
      "provenance": [],
      "authorship_tag": "ABX9TyNwUbWWwUxX7Hg8Jc9EdvjR",
      "include_colab_link": true
    },
    "kernelspec": {
      "name": "python3",
      "display_name": "Python 3"
    },
    "language_info": {
      "name": "python"
    }
  },
  "cells": [
    {
      "cell_type": "markdown",
      "metadata": {
        "id": "view-in-github",
        "colab_type": "text"
      },
      "source": [
        "<a href=\"https://colab.research.google.com/github/Lagmas/scrolling_text/blob/main/RunningText.ipynb\" target=\"_parent\"><img src=\"https://colab.research.google.com/assets/colab-badge.svg\" alt=\"Open In Colab\"/></a>"
      ]
    },
    {
      "cell_type": "code",
      "execution_count": 1,
      "metadata": {
        "colab": {
          "base_uri": "https://localhost:8080/"
        },
        "id": "_bdC5Q8b1EcE",
        "outputId": "72e31797-5ba4-4293-b117-540df3146281"
      },
      "outputs": [
        {
          "output_type": "stream",
          "name": "stdout",
          "text": [
            "Cloning into 'scrolling_text'...\n",
            "remote: Enumerating objects: 119, done.\u001b[K\n",
            "remote: Counting objects: 100% (119/119), done.\u001b[K\n",
            "remote: Compressing objects: 100% (84/84), done.\u001b[K\n",
            "remote: Total 119 (delta 44), reused 92 (delta 24), pack-reused 0\u001b[K\n",
            "Receiving objects: 100% (119/119), 38.09 KiB | 3.81 MiB/s, done.\n",
            "Resolving deltas: 100% (44/44), done.\n"
          ]
        }
      ],
      "source": [
        "!git clone  https://github.com/Lagmas/scrolling_text.git"
      ]
    },
    {
      "cell_type": "code",
      "source": [
        "cd scrolling_text/"
      ],
      "metadata": {
        "colab": {
          "base_uri": "https://localhost:8080/"
        },
        "id": "UDBqVIAq1csr",
        "outputId": "964b43c7-054b-4c0b-8013-110628feb53c"
      },
      "execution_count": 2,
      "outputs": [
        {
          "output_type": "stream",
          "name": "stdout",
          "text": [
            "/content/scrolling_text\n"
          ]
        }
      ]
    },
    {
      "cell_type": "code",
      "source": [
        "pip install -r requirements.txt"
      ],
      "metadata": {
        "colab": {
          "base_uri": "https://localhost:8080/"
        },
        "id": "nE-Huk_E1tqi",
        "outputId": "800fe0fc-db30-4401-dd30-aaca2a9ed877"
      },
      "execution_count": 3,
      "outputs": [
        {
          "output_type": "stream",
          "name": "stdout",
          "text": [
            "Looking in indexes: https://pypi.org/simple, https://us-python.pkg.dev/colab-wheels/public/simple/\n",
            "Collecting Django==2.2.19 (from -r requirements.txt (line 1))\n",
            "  Downloading Django-2.2.19-py3-none-any.whl (7.5 MB)\n",
            "\u001b[2K     \u001b[90m━━━━━━━━━━━━━━━━━━━━━━━━━━━━━━━━━━━━━━━━\u001b[0m \u001b[32m7.5/7.5 MB\u001b[0m \u001b[31m50.1 MB/s\u001b[0m eta \u001b[36m0:00:00\u001b[0m\n",
            "\u001b[?25hRequirement already satisfied: opencv-python==4.7.0.72 in /usr/local/lib/python3.10/dist-packages (from -r requirements.txt (line 2)) (4.7.0.72)\n",
            "Collecting python-dotenv==0.21.1 (from -r requirements.txt (line 3))\n",
            "  Downloading python_dotenv-0.21.1-py3-none-any.whl (19 kB)\n",
            "Collecting pytz==2023.3 (from -r requirements.txt (line 4))\n",
            "  Downloading pytz-2023.3-py2.py3-none-any.whl (502 kB)\n",
            "\u001b[2K     \u001b[90m━━━━━━━━━━━━━━━━━━━━━━━━━━━━━━━━━━━━━━\u001b[0m \u001b[32m502.3/502.3 kB\u001b[0m \u001b[31m34.3 MB/s\u001b[0m eta \u001b[36m0:00:00\u001b[0m\n",
            "\u001b[?25hRequirement already satisfied: sqlparse>=0.2.2 in /usr/local/lib/python3.10/dist-packages (from Django==2.2.19->-r requirements.txt (line 1)) (0.4.4)\n",
            "Requirement already satisfied: numpy>=1.21.2 in /usr/local/lib/python3.10/dist-packages (from opencv-python==4.7.0.72->-r requirements.txt (line 2)) (1.22.4)\n",
            "Installing collected packages: pytz, python-dotenv, Django\n",
            "  Attempting uninstall: pytz\n",
            "    Found existing installation: pytz 2022.7.1\n",
            "    Uninstalling pytz-2022.7.1:\n",
            "      Successfully uninstalled pytz-2022.7.1\n",
            "Successfully installed Django-2.2.19 python-dotenv-0.21.1 pytz-2023.3\n"
          ]
        }
      ]
    },
    {
      "cell_type": "code",
      "source": [
        "!pip install wget\n",
        "\n",
        "import wget\n",
        "\n",
        "url = 'https://drive.google.com/uc?id=1OcmJUufnYHNo6vgL7TQbXDhkVkxTe3xk'\n",
        "output_dir = '/content/scrolling_text/scrolling_text/scrolling_text/'  # полный путь к директории, куда вы хотите сохранить файл\n",
        "output = output_dir + '.env'  # полный путь к файлу в указанной директории\n",
        "\n",
        "wget.download(url, output)\n"
      ],
      "metadata": {
        "colab": {
          "base_uri": "https://localhost:8080/",
          "height": 226
        },
        "id": "ecD1R_I81ywq",
        "outputId": "eecc5d14-cba5-4241-e0c6-ff162eb889d2"
      },
      "execution_count": 4,
      "outputs": [
        {
          "output_type": "stream",
          "name": "stdout",
          "text": [
            "Looking in indexes: https://pypi.org/simple, https://us-python.pkg.dev/colab-wheels/public/simple/\n",
            "Collecting wget\n",
            "  Downloading wget-3.2.zip (10 kB)\n",
            "  Preparing metadata (setup.py) ... \u001b[?25l\u001b[?25hdone\n",
            "Building wheels for collected packages: wget\n",
            "  Building wheel for wget (setup.py) ... \u001b[?25l\u001b[?25hdone\n",
            "  Created wheel for wget: filename=wget-3.2-py3-none-any.whl size=9657 sha256=9fb10ba864cf1443422022080a664e86ed51df0c4cc5829b9e485e5164f47616\n",
            "  Stored in directory: /root/.cache/pip/wheels/8b/f1/7f/5c94f0a7a505ca1c81cd1d9208ae2064675d97582078e6c769\n",
            "Successfully built wget\n",
            "Installing collected packages: wget\n",
            "Successfully installed wget-3.2\n"
          ]
        },
        {
          "output_type": "execute_result",
          "data": {
            "text/plain": [
              "'/content/scrolling_text/scrolling_text/scrolling_text/.env'"
            ],
            "application/vnd.google.colaboratory.intrinsic+json": {
              "type": "string"
            }
          },
          "metadata": {},
          "execution_count": 4
        }
      ]
    },
    {
      "cell_type": "code",
      "source": [
        "cd scrolling_text/"
      ],
      "metadata": {
        "colab": {
          "base_uri": "https://localhost:8080/"
        },
        "id": "UbPH1C8U2Q2h",
        "outputId": "1a8cda81-33da-4f45-e43e-536942ef4d73"
      },
      "execution_count": 6,
      "outputs": [
        {
          "output_type": "stream",
          "name": "stdout",
          "text": [
            "/content/scrolling_text/scrolling_text\n"
          ]
        }
      ]
    },
    {
      "cell_type": "code",
      "source": [
        "!python manage.py migrate"
      ],
      "metadata": {
        "colab": {
          "base_uri": "https://localhost:8080/"
        },
        "id": "0oTLImnj3VBI",
        "outputId": "5808fc34-649c-48f1-f2a0-158104e0e7f1"
      },
      "execution_count": 8,
      "outputs": [
        {
          "output_type": "stream",
          "name": "stdout",
          "text": [
            "\u001b[36;1mOperations to perform:\u001b[0m\n",
            "\u001b[1m  Apply all migrations: \u001b[0madmin, auth, contenttypes, sessions, ticker\n",
            "\u001b[36;1mRunning migrations:\u001b[0m\n",
            "  Applying contenttypes.0001_initial...\u001b[32;1m OK\u001b[0m\n",
            "  Applying auth.0001_initial...\u001b[32;1m OK\u001b[0m\n",
            "  Applying admin.0001_initial...\u001b[32;1m OK\u001b[0m\n",
            "  Applying admin.0002_logentry_remove_auto_add...\u001b[32;1m OK\u001b[0m\n",
            "  Applying admin.0003_logentry_add_action_flag_choices...\u001b[32;1m OK\u001b[0m\n",
            "  Applying contenttypes.0002_remove_content_type_name...\u001b[32;1m OK\u001b[0m\n",
            "  Applying auth.0002_alter_permission_name_max_length...\u001b[32;1m OK\u001b[0m\n",
            "  Applying auth.0003_alter_user_email_max_length...\u001b[32;1m OK\u001b[0m\n",
            "  Applying auth.0004_alter_user_username_opts...\u001b[32;1m OK\u001b[0m\n",
            "  Applying auth.0005_alter_user_last_login_null...\u001b[32;1m OK\u001b[0m\n",
            "  Applying auth.0006_require_contenttypes_0002...\u001b[32;1m OK\u001b[0m\n",
            "  Applying auth.0007_alter_validators_add_error_messages...\u001b[32;1m OK\u001b[0m\n",
            "  Applying auth.0008_alter_user_username_max_length...\u001b[32;1m OK\u001b[0m\n",
            "  Applying auth.0009_alter_user_last_name_max_length...\u001b[32;1m OK\u001b[0m\n",
            "  Applying auth.0010_alter_group_name_max_length...\u001b[32;1m OK\u001b[0m\n",
            "  Applying auth.0011_update_proxy_permissions...\u001b[32;1m OK\u001b[0m\n",
            "  Applying sessions.0001_initial...\u001b[32;1m OK\u001b[0m\n",
            "  Applying ticker.0001_initial...\u001b[32;1m OK\u001b[0m\n",
            "  Applying ticker.0002_runningtexthistory...\u001b[32;1m OK\u001b[0m\n"
          ]
        }
      ]
    },
    {
      "cell_type": "code",
      "source": [
        "!sed -i 's/'\\''django.middleware.csrf.CsrfViewMiddleware'\\''/#'\\''django.middleware.csrf.CsrfViewMiddleware'\\''/' /content/scrolling_text/scrolling_text/scrolling_text/settings.py\n"
      ],
      "metadata": {
        "id": "CFNa7a2W3ttJ"
      },
      "execution_count": 9,
      "outputs": []
    },
    {
      "cell_type": "code",
      "source": [
        "from google.colab.output import eval_js\n",
        "print(eval_js(\"google.colab.kernel.proxyPort(8000)\"))"
      ],
      "metadata": {
        "colab": {
          "base_uri": "https://localhost:8080/",
          "height": 34
        },
        "id": "XDEMMSER39R2",
        "outputId": "9d0dfbc4-2f5e-438e-c9a9-75cbe98e23dd"
      },
      "execution_count": 10,
      "outputs": [
        {
          "output_type": "stream",
          "name": "stdout",
          "text": [
            "https://yiagh6hd94d-496ff2e9c6d22116-8000-colab.googleusercontent.com/\n"
          ]
        }
      ]
    },
    {
      "cell_type": "code",
      "source": [
        "!python manage.py runserver"
      ],
      "metadata": {
        "colab": {
          "base_uri": "https://localhost:8080/"
        },
        "id": "8otuh9Le4AG4",
        "outputId": "0086ad65-76b3-4c5c-a68e-421e7eb05ed1"
      },
      "execution_count": 11,
      "outputs": [
        {
          "output_type": "stream",
          "name": "stdout",
          "text": [
            "Watching for file changes with StatReloader\n",
            "Performing system checks...\n",
            "\n",
            "System check identified no issues (0 silenced).\n",
            "June 03, 2023 - 10:49:15\n",
            "Django version 2.2.19, using settings 'scrolling_text.settings'\n",
            "Starting development server at http://127.0.0.1:8000/\n",
            "Quit the server with CONTROL-C.\n",
            "[03/Jun/2023 10:49:17] \u001b[m\"GET / HTTP/1.1\" 200 2349\u001b[0m\n",
            "Not Found: /favicon.ico\n",
            "[03/Jun/2023 10:49:18] \u001b[33m\"GET /favicon.ico HTTP/1.1\" 404 2152\u001b[0m\n",
            "[03/Jun/2023 10:49:22] \u001b[m\"POST / HTTP/1.1\" 200 10758\u001b[0m\n"
          ]
        }
      ]
    }
  ]
}