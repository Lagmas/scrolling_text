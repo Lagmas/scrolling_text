{
  "nbformat": 4,
  "nbformat_minor": 0,
  "metadata": {
    "colab": {
      "provenance": [],
      "mount_file_id": "15yGXsneErATQ5eTzQll0BCwUB3zeOnak",
      "authorship_tag": "ABX9TyMkCucYcQbLvz7v4n8kyAEZ",
      "include_colab_link": true
    },
    "kernelspec": {
      "name": "python3",
      "display_name": "Python 3"
    },
    "language_info": {
      "name": "python"
    }
  },
  "cells": [
    {
      "cell_type": "markdown",
      "metadata": {
        "id": "view-in-github",
        "colab_type": "text"
      },
      "source": [
        "<a href=\"https://colab.research.google.com/github/Lagmas/scrolling_text/blob/main/scrolling_text.ipynb\" target=\"_parent\"><img src=\"https://colab.research.google.com/assets/colab-badge.svg\" alt=\"Open In Colab\"/></a>"
      ]
    },
    {
      "cell_type": "code",
      "source": [
        "!python manage.py runserver"
      ],
      "metadata": {
        "id": "o8oXKSHLz6qE"
      },
      "execution_count": null,
      "outputs": []
    },
    {
      "cell_type": "code",
      "source": [],
      "metadata": {
        "colab": {
          "base_uri": "https://localhost:8080/"
        },
        "id": "mArfND7Q3G4N",
        "outputId": "e90114a4-a103-46df-c697-e4dc200fd6fa"
      },
      "execution_count": 33,
      "outputs": [
        {
          "output_type": "stream",
          "name": "stdout",
          "text": [
            "/bin/bash: -c: line 0: syntax error near unexpected token `print'\n",
            "/bin/bash: -c: line 0: `eval_js ( print(eval_js(\"google.colab.kernel.proxyPort(8000)\")))'\n"
          ]
        }
      ]
    },
    {
      "cell_type": "code",
      "source": [
        "from google.colab.output import eval_js\n",
        "print(eval_js(\"google.colab.kernel.proxyPort(8000)\"))\n"
      ],
      "metadata": {
        "colab": {
          "base_uri": "https://localhost:8080/",
          "height": 34
        },
        "id": "5Y92X-KIOJBt",
        "outputId": "d03b2eee-8298-492e-9aa4-2547d12464c0"
      },
      "execution_count": 35,
      "outputs": [
        {
          "output_type": "stream",
          "name": "stdout",
          "text": [
            "https://cjhtvgppmc7-496ff2e9c6d22116-8000-colab.googleusercontent.com/\n"
          ]
        }
      ]
    },
    {
      "cell_type": "code",
      "source": [
        "!python manage.py runserver"
      ],
      "metadata": {
        "colab": {
          "base_uri": "https://localhost:8080/"
        },
        "id": "tUpvRWVp3iIL",
        "outputId": "dd46ab9e-44c1-46c6-c4ca-0d967c47b6b4"
      },
      "execution_count": 42,
      "outputs": [
        {
          "output_type": "stream",
          "name": "stdout",
          "text": [
            "Watching for file changes with StatReloader\n",
            "Performing system checks...\n",
            "\n",
            "System check identified no issues (0 silenced).\n",
            "June 02, 2023 - 17:08:26\n",
            "Django version 2.2.19, using settings 'scrolling_text.settings'\n",
            "Starting development server at http://127.0.0.1:8000/\n",
            "Quit the server with CONTROL-C.\n",
            "[02/Jun/2023 17:08:27] \u001b[m\"GET / HTTP/1.1\" 200 2349\u001b[0m\n",
            "Not Found: /favicon.ico\n",
            "[02/Jun/2023 17:08:28] \u001b[33m\"GET /favicon.ico HTTP/1.1\" 404 2152\u001b[0m\n",
            "Forbidden (CSRF cookie not set.): /\n",
            "[02/Jun/2023 17:08:31] \u001b[31;1m\"POST / HTTP/1.1\" 403 2868\u001b[0m\n"
          ]
        }
      ]
    }
  ]
}